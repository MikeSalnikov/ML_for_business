{
  "cells": [
    {
      "cell_type": "markdown",
      "metadata": {
        "id": "view-in-github",
        "colab_type": "text"
      },
      "source": [
        "<a href=\"https://colab.research.google.com/github/MikeSalnikov/ML_for_business/blob/main/HW3_ml_in_business.ipynb\" target=\"_parent\"><img src=\"https://colab.research.google.com/assets/colab-badge.svg\" alt=\"Open In Colab\"/></a>"
      ]
    },
    {
      "cell_type": "code",
      "execution_count": 9,
      "metadata": {
        "id": "EYqzhfhtSYeA"
      },
      "outputs": [],
      "source": [
        "import numpy as np\n",
        "import pandas as pd\n",
        "\n",
        "import seaborn as sns\n",
        "import itertools\n",
        "import matplotlib.pyplot as plt\n",
        "\n",
        "from sklearn.model_selection import cross_val_score, train_test_split\n",
        "\n",
        "from sklearn.base import BaseEstimator, TransformerMixin\n",
        "\n",
        "from sklearn.pipeline import Pipeline, make_pipeline\n",
        "\n",
        "from sklearn.metrics import precision_recall_curve, roc_curve, roc_auc_score, confusion_matrix\n",
        "\n",
        "from sklearn.ensemble import GradientBoostingRegressor, RandomForestClassifier\n",
        "\n",
        "from sklearn.linear_model import LogisticRegression\n",
        "from sklearn import metrics\n",
        "\n",
        "from sklearn.metrics import classification_report\n",
        "\n",
        "import warnings\n",
        "warnings.filterwarnings('ignore')"
      ]
    },
    {
      "cell_type": "code",
      "execution_count": 10,
      "metadata": {
        "id": "5aIsKEWVSYeB",
        "outputId": "633aa012-63e4-4cc4-beb4-07aaf59f1c6f",
        "colab": {
          "base_uri": "https://localhost:8080/",
          "height": 142
        }
      },
      "outputs": [
        {
          "output_type": "execute_result",
          "data": {
            "text/plain": [
              "   id    age  gender  height  weight  ap_hi  ap_lo  cholesterol  gluc  smoke  \\\n",
              "0   0  18393       2     168    62.0    110     80            1     1      0   \n",
              "1   1  20228       1     156    85.0    140     90            3     1      0   \n",
              "2   2  18857       1     165    64.0    130     70            3     1      0   \n",
              "\n",
              "   alco  active  cardio  \n",
              "0     0       1       0  \n",
              "1     0       1       1  \n",
              "2     0       0       1  "
            ],
            "text/html": [
              "\n",
              "  <div id=\"df-43289c0f-08a3-4ee1-8982-6704804f9329\">\n",
              "    <div class=\"colab-df-container\">\n",
              "      <div>\n",
              "<style scoped>\n",
              "    .dataframe tbody tr th:only-of-type {\n",
              "        vertical-align: middle;\n",
              "    }\n",
              "\n",
              "    .dataframe tbody tr th {\n",
              "        vertical-align: top;\n",
              "    }\n",
              "\n",
              "    .dataframe thead th {\n",
              "        text-align: right;\n",
              "    }\n",
              "</style>\n",
              "<table border=\"1\" class=\"dataframe\">\n",
              "  <thead>\n",
              "    <tr style=\"text-align: right;\">\n",
              "      <th></th>\n",
              "      <th>id</th>\n",
              "      <th>age</th>\n",
              "      <th>gender</th>\n",
              "      <th>height</th>\n",
              "      <th>weight</th>\n",
              "      <th>ap_hi</th>\n",
              "      <th>ap_lo</th>\n",
              "      <th>cholesterol</th>\n",
              "      <th>gluc</th>\n",
              "      <th>smoke</th>\n",
              "      <th>alco</th>\n",
              "      <th>active</th>\n",
              "      <th>cardio</th>\n",
              "    </tr>\n",
              "  </thead>\n",
              "  <tbody>\n",
              "    <tr>\n",
              "      <th>0</th>\n",
              "      <td>0</td>\n",
              "      <td>18393</td>\n",
              "      <td>2</td>\n",
              "      <td>168</td>\n",
              "      <td>62.0</td>\n",
              "      <td>110</td>\n",
              "      <td>80</td>\n",
              "      <td>1</td>\n",
              "      <td>1</td>\n",
              "      <td>0</td>\n",
              "      <td>0</td>\n",
              "      <td>1</td>\n",
              "      <td>0</td>\n",
              "    </tr>\n",
              "    <tr>\n",
              "      <th>1</th>\n",
              "      <td>1</td>\n",
              "      <td>20228</td>\n",
              "      <td>1</td>\n",
              "      <td>156</td>\n",
              "      <td>85.0</td>\n",
              "      <td>140</td>\n",
              "      <td>90</td>\n",
              "      <td>3</td>\n",
              "      <td>1</td>\n",
              "      <td>0</td>\n",
              "      <td>0</td>\n",
              "      <td>1</td>\n",
              "      <td>1</td>\n",
              "    </tr>\n",
              "    <tr>\n",
              "      <th>2</th>\n",
              "      <td>2</td>\n",
              "      <td>18857</td>\n",
              "      <td>1</td>\n",
              "      <td>165</td>\n",
              "      <td>64.0</td>\n",
              "      <td>130</td>\n",
              "      <td>70</td>\n",
              "      <td>3</td>\n",
              "      <td>1</td>\n",
              "      <td>0</td>\n",
              "      <td>0</td>\n",
              "      <td>0</td>\n",
              "      <td>1</td>\n",
              "    </tr>\n",
              "  </tbody>\n",
              "</table>\n",
              "</div>\n",
              "      <button class=\"colab-df-convert\" onclick=\"convertToInteractive('df-43289c0f-08a3-4ee1-8982-6704804f9329')\"\n",
              "              title=\"Convert this dataframe to an interactive table.\"\n",
              "              style=\"display:none;\">\n",
              "        \n",
              "  <svg xmlns=\"http://www.w3.org/2000/svg\" height=\"24px\"viewBox=\"0 0 24 24\"\n",
              "       width=\"24px\">\n",
              "    <path d=\"M0 0h24v24H0V0z\" fill=\"none\"/>\n",
              "    <path d=\"M18.56 5.44l.94 2.06.94-2.06 2.06-.94-2.06-.94-.94-2.06-.94 2.06-2.06.94zm-11 1L8.5 8.5l.94-2.06 2.06-.94-2.06-.94L8.5 2.5l-.94 2.06-2.06.94zm10 10l.94 2.06.94-2.06 2.06-.94-2.06-.94-.94-2.06-.94 2.06-2.06.94z\"/><path d=\"M17.41 7.96l-1.37-1.37c-.4-.4-.92-.59-1.43-.59-.52 0-1.04.2-1.43.59L10.3 9.45l-7.72 7.72c-.78.78-.78 2.05 0 2.83L4 21.41c.39.39.9.59 1.41.59.51 0 1.02-.2 1.41-.59l7.78-7.78 2.81-2.81c.8-.78.8-2.07 0-2.86zM5.41 20L4 18.59l7.72-7.72 1.47 1.35L5.41 20z\"/>\n",
              "  </svg>\n",
              "      </button>\n",
              "      \n",
              "  <style>\n",
              "    .colab-df-container {\n",
              "      display:flex;\n",
              "      flex-wrap:wrap;\n",
              "      gap: 12px;\n",
              "    }\n",
              "\n",
              "    .colab-df-convert {\n",
              "      background-color: #E8F0FE;\n",
              "      border: none;\n",
              "      border-radius: 50%;\n",
              "      cursor: pointer;\n",
              "      display: none;\n",
              "      fill: #1967D2;\n",
              "      height: 32px;\n",
              "      padding: 0 0 0 0;\n",
              "      width: 32px;\n",
              "    }\n",
              "\n",
              "    .colab-df-convert:hover {\n",
              "      background-color: #E2EBFA;\n",
              "      box-shadow: 0px 1px 2px rgba(60, 64, 67, 0.3), 0px 1px 3px 1px rgba(60, 64, 67, 0.15);\n",
              "      fill: #174EA6;\n",
              "    }\n",
              "\n",
              "    [theme=dark] .colab-df-convert {\n",
              "      background-color: #3B4455;\n",
              "      fill: #D2E3FC;\n",
              "    }\n",
              "\n",
              "    [theme=dark] .colab-df-convert:hover {\n",
              "      background-color: #434B5C;\n",
              "      box-shadow: 0px 1px 3px 1px rgba(0, 0, 0, 0.15);\n",
              "      filter: drop-shadow(0px 1px 2px rgba(0, 0, 0, 0.3));\n",
              "      fill: #FFFFFF;\n",
              "    }\n",
              "  </style>\n",
              "\n",
              "      <script>\n",
              "        const buttonEl =\n",
              "          document.querySelector('#df-43289c0f-08a3-4ee1-8982-6704804f9329 button.colab-df-convert');\n",
              "        buttonEl.style.display =\n",
              "          google.colab.kernel.accessAllowed ? 'block' : 'none';\n",
              "\n",
              "        async function convertToInteractive(key) {\n",
              "          const element = document.querySelector('#df-43289c0f-08a3-4ee1-8982-6704804f9329');\n",
              "          const dataTable =\n",
              "            await google.colab.kernel.invokeFunction('convertToInteractive',\n",
              "                                                     [key], {});\n",
              "          if (!dataTable) return;\n",
              "\n",
              "          const docLinkHtml = 'Like what you see? Visit the ' +\n",
              "            '<a target=\"_blank\" href=https://colab.research.google.com/notebooks/data_table.ipynb>data table notebook</a>'\n",
              "            + ' to learn more about interactive tables.';\n",
              "          element.innerHTML = '';\n",
              "          dataTable['output_type'] = 'display_data';\n",
              "          await google.colab.output.renderOutput(dataTable, element);\n",
              "          const docLink = document.createElement('div');\n",
              "          docLink.innerHTML = docLinkHtml;\n",
              "          element.appendChild(docLink);\n",
              "        }\n",
              "      </script>\n",
              "    </div>\n",
              "  </div>\n",
              "  "
            ]
          },
          "metadata": {},
          "execution_count": 10
        }
      ],
      "source": [
        "df = pd.read_csv('train_case2.csv', ';')\n",
        "df.head(3)"
      ]
    },
    {
      "cell_type": "markdown",
      "metadata": {
        "id": "0HMOgAZaSYeC"
      },
      "source": [
        "Разделим наши данные на тренировочную и тестовую выборки"
      ]
    },
    {
      "cell_type": "code",
      "execution_count": 11,
      "metadata": {
        "id": "9tjJa_JfSYeC"
      },
      "outputs": [],
      "source": [
        "#разделим данные на train/test\n",
        "X_train, X_test, y_train, y_test = train_test_split(df.drop('cardio', 1), \n",
        "                                                    df['cardio'], random_state=0)"
      ]
    },
    {
      "cell_type": "markdown",
      "metadata": {
        "id": "sll25N51SYeD"
      },
      "source": [
        "К полям:\n",
        "- gender, cholesterol применим OHE-кодирование\n",
        "- age, height, weight, ap_hi, ap_lo - standardScaler\n",
        "- gluc, smoke, alco, active - оставим пока как есть"
      ]
    },
    {
      "cell_type": "code",
      "execution_count": 12,
      "metadata": {
        "id": "GD7CPianSYeD"
      },
      "outputs": [],
      "source": [
        "class ColumnSelector(BaseEstimator, TransformerMixin):\n",
        "    \"\"\"\n",
        "    Transformer to select a single column from the data frame to perform additional transformations on\n",
        "    \"\"\"\n",
        "    def __init__(self, key):\n",
        "        self.key = key\n",
        "\n",
        "    def fit(self, X, y=None):\n",
        "        return self\n",
        "\n",
        "    def transform(self, X):\n",
        "        return X[self.key]\n",
        "    \n",
        "class NumberSelector(BaseEstimator, TransformerMixin):\n",
        "    \"\"\"\n",
        "    Transformer to select a single column from the data frame to perform additional transformations on\n",
        "    Use on numeric columns in the data\n",
        "    \"\"\"\n",
        "    def __init__(self, key):\n",
        "        self.key = key\n",
        "\n",
        "    def fit(self, X, y=None):\n",
        "        return self\n",
        "\n",
        "    def transform(self, X):\n",
        "        return X[[self.key]]\n",
        "    \n",
        "class OHEEncoder(BaseEstimator, TransformerMixin):\n",
        "    def __init__(self, key):\n",
        "        self.key = key\n",
        "        self.columns = []\n",
        "\n",
        "    def fit(self, X, y=None):\n",
        "        self.columns = [col for col in pd.get_dummies(X, prefix=self.key).columns]\n",
        "        return self\n",
        "\n",
        "    def transform(self, X):\n",
        "        X = pd.get_dummies(X, prefix=self.key)\n",
        "        test_columns = [col for col in X.columns]\n",
        "        for col_ in test_columns:\n",
        "            if col_ not in self.columns:\n",
        "                X[col_] = 0\n",
        "        return X[self.columns]\n",
        "\n",
        "\n",
        "from sklearn.preprocessing import StandardScaler\n",
        "\n",
        "\n",
        "continuos_cols = ['age', 'height', 'weight', 'ap_hi', 'ap_lo']\n",
        "cat_cols = ['gender', 'cholesterol']\n",
        "base_cols = ['gluc', 'smoke', 'alco', 'active']\n",
        "\n",
        "continuos_transformers = []\n",
        "cat_transformers = []\n",
        "base_transformers = []\n",
        "\n",
        "for cont_col in continuos_cols:\n",
        "    transfomer =  Pipeline([\n",
        "                ('selector', NumberSelector(key=cont_col)),\n",
        "                ('standard', StandardScaler())\n",
        "            ])\n",
        "    continuos_transformers.append((cont_col, transfomer))\n",
        "    \n",
        "for cat_col in cat_cols:\n",
        "    cat_transformer = Pipeline([\n",
        "                ('selector', ColumnSelector(key=cat_col)),\n",
        "                ('ohe', OHEEncoder(key=cat_col))\n",
        "            ])\n",
        "    cat_transformers.append((cat_col, cat_transformer))\n",
        "    \n",
        "for base_col in base_cols:\n",
        "    base_transformer = Pipeline([\n",
        "                ('selector', NumberSelector(key=base_col))\n",
        "            ])\n",
        "    base_transformers.append((base_col, base_transformer))"
      ]
    },
    {
      "cell_type": "markdown",
      "metadata": {
        "id": "x_lJtR_vSYeE"
      },
      "source": [
        "Теперь объединим все наши трансформеры с помощью FeatureUnion"
      ]
    },
    {
      "cell_type": "code",
      "execution_count": 13,
      "metadata": {
        "id": "BX8PXmfeSYeE",
        "outputId": "e3b6d033-d8cd-47e1-a47d-611521a4ccd9",
        "colab": {
          "base_uri": "https://localhost:8080/"
        }
      },
      "outputs": [
        {
          "output_type": "execute_result",
          "data": {
            "text/plain": [
              "array([[-1.73391771,  0.6873301 ,  0.74843904, ...,  1.        ,\n",
              "         0.        ,  1.        ],\n",
              "       [-1.67343538,  0.07758923, -0.29640123, ...,  0.        ,\n",
              "         0.        ,  1.        ],\n",
              "       [ 0.13738132,  1.17512278, -0.15708919, ...,  0.        ,\n",
              "         0.        ,  0.        ],\n",
              "       ...,\n",
              "       [ 1.17775864,  1.17512278, -0.15708919, ...,  0.        ,\n",
              "         0.        ,  1.        ],\n",
              "       [-0.47190715, -1.38578883,  0.74843904, ...,  0.        ,\n",
              "         0.        ,  1.        ],\n",
              "       [ 0.38174619,  0.56538192, -0.08743318, ...,  0.        ,\n",
              "         0.        ,  1.        ]])"
            ]
          },
          "metadata": {},
          "execution_count": 13
        }
      ],
      "source": [
        "from sklearn.pipeline import FeatureUnion\n",
        "\n",
        "feats = FeatureUnion(continuos_transformers+cat_transformers+base_transformers)\n",
        "feature_processing = Pipeline([('feats', feats)])\n",
        "\n",
        "feature_processing.fit_transform(X_train)"
      ]
    },
    {
      "cell_type": "markdown",
      "metadata": {
        "id": "377wxxMJSYeF"
      },
      "source": [
        "Добавим классификатор и запустим кросс-валидацию"
      ]
    },
    {
      "cell_type": "code",
      "execution_count": 14,
      "metadata": {
        "id": "KMBllcwZSYeF",
        "outputId": "84353b47-79b0-4c16-bc12-27e7e197d380",
        "colab": {
          "base_uri": "https://localhost:8080/"
        }
      },
      "outputs": [
        {
          "output_type": "stream",
          "name": "stdout",
          "text": [
            "CV score is 0.7867401104915408+-0.00852135511666111\n"
          ]
        }
      ],
      "source": [
        "classifier = Pipeline([\n",
        "    ('features',feats),\n",
        "    ('classifier', LogisticRegression(random_state = 42)),\n",
        "])\n",
        "\n",
        "\n",
        "#запустим кросс-валидацию\n",
        "cv_scores = cross_val_score(classifier, X_train, y_train, cv=16, scoring='roc_auc')\n",
        "cv_score = np.mean(cv_scores)\n",
        "cv_score_std = np.std(cv_scores)\n",
        "print('CV score is {}+-{}'.format(cv_score, cv_score_std))\n",
        "\n",
        "#обучим пайплайн на всем тренировочном датасете\n",
        "classifier.fit(X_train, y_train)\n",
        "y_score = classifier.predict_proba(X_test)[:, 1]"
      ]
    },
    {
      "cell_type": "markdown",
      "metadata": {
        "id": "pP7VL2b3SYeG"
      },
      "source": [
        "Посчитаем precision/recall/f_score"
      ]
    },
    {
      "cell_type": "code",
      "execution_count": 15,
      "metadata": {
        "id": "ylgz2Rz2SYeG",
        "outputId": "1f8a9a6f-e369-44b2-e2c8-ee977772358b",
        "colab": {
          "base_uri": "https://localhost:8080/"
        }
      },
      "outputs": [
        {
          "output_type": "stream",
          "name": "stdout",
          "text": [
            "Best Threshold=0.386937, F-Score=0.730, Precision=0.647, Recall=0.838\n"
          ]
        }
      ],
      "source": [
        "b=1\n",
        "precision, recall, thresholds = precision_recall_curve(y_test.values, y_score)\n",
        "fscore = (1+b**2)*(precision * recall) / (b**2*precision + recall)\n",
        "# locate the index of the largest f score\n",
        "ix = np.argmax(fscore)\n",
        "print('Best Threshold=%f, F-Score=%.3f, Precision=%.3f, Recall=%.3f' % (thresholds[ix], \n",
        "                                                                        fscore[ix],\n",
        "                                                                        precision[ix],\n",
        "                                                                        recall[ix]))"
      ]
    },
    {
      "cell_type": "markdown",
      "metadata": {
        "id": "tpPoibuCSYeH"
      },
      "source": [
        "Нарисуем roc auc кривую"
      ]
    },
    {
      "cell_type": "code",
      "execution_count": 16,
      "metadata": {
        "id": "EI-3BeHYSYeH",
        "outputId": "84b74c4d-1605-4961-81a7-2867e174bcde",
        "colab": {
          "base_uri": "https://localhost:8080/",
          "height": 535
        }
      },
      "outputs": [
        {
          "output_type": "display_data",
          "data": {
            "text/plain": [
              "<Figure size 720x576 with 1 Axes>"
            ],
            "image/png": "[encoded data removed]"
          },
          "metadata": {}
        }
      ],
      "source": [
        "sns.set(font_scale=1.5)\n",
        "sns.set_color_codes(\"muted\")\n",
        "\n",
        "plt.figure(figsize=(10, 8))\n",
        "fpr, tpr, thresholds_ = roc_curve(y_test, y_score, pos_label=1)\n",
        "lw = 2\n",
        "plt.plot(fpr, tpr, lw=lw, label='ROC curve ')\n",
        "plt.plot([0, 1], [0, 1])\n",
        "plt.xlim([0.0, 1.0])\n",
        "plt.ylim([0.0, 1.05])\n",
        "plt.xlabel('False Positive Rate')\n",
        "plt.ylabel('True Positive Rate')\n",
        "plt.title('ROC curve')\n",
        "plt.savefig(\"ROC.png\")\n",
        "plt.show()"
      ]
    },
    {
      "cell_type": "code",
      "execution_count": 17,
      "metadata": {
        "id": "m0CU2rdySYeH",
        "outputId": "8d9a8e0c-9bc5-4f03-c390-e284fc5c28f0",
        "colab": {
          "base_uri": "https://localhost:8080/"
        }
      },
      "outputs": [
        {
          "output_type": "stream",
          "name": "stdout",
          "text": [
            "roc auc score: 0.7840347790421852\n",
            "log loss score: 0.5779604008230668\n"
          ]
        }
      ],
      "source": [
        "from sklearn.metrics import roc_auc_score, log_loss\n",
        "\n",
        "#Ваш код здесь\n",
        "print(\"roc auc score: {}\".format(roc_auc_score(y_true=y_test, y_score=classifier.predict_proba(X_test)[:,1])))\n",
        "print(\"log loss score: {}\".format(log_loss(y_true=y_test, y_pred=classifier.predict_proba(X_test)[:,1])))"
      ]
    },
    {
      "cell_type": "markdown",
      "metadata": {
        "id": "CUXcbMCESYeI"
      },
      "source": [
        "Хорошая ли модель у нас получилась? - ответ сильно зависит от внешних факторов (какое количество FP мы можем допустить)"
      ]
    },
    {
      "cell_type": "markdown",
      "metadata": {
        "id": "nze26bcZSYeI"
      },
      "source": [
        "#### Обучить несколько разных моделей на наборе данных ССЗ (train_case2.csv): логрег, бустинг, лес и т.д - на ваш выбор 2-3 варианта"
      ]
    },
    {
      "cell_type": "markdown",
      "metadata": {
        "id": "PGoDixilSYeJ"
      },
      "source": [
        "Логистическая регрессия:"
      ]
    },
    {
      "cell_type": "code",
      "execution_count": 18,
      "metadata": {
        "scrolled": true,
        "id": "GPFFknb8SYeJ",
        "outputId": "7cd47d06-44d7-44ba-bd03-73b8446cadc9",
        "colab": {
          "base_uri": "https://localhost:8080/"
        }
      },
      "outputs": [
        {
          "output_type": "stream",
          "name": "stdout",
          "text": [
            "CPU times: user 776 ms, sys: 423 ms, total: 1.2 s\n",
            "Wall time: 656 ms\n"
          ]
        },
        {
          "output_type": "execute_result",
          "data": {
            "text/plain": [
              "LogisticRegression()"
            ]
          },
          "metadata": {},
          "execution_count": 18
        }
      ],
      "source": [
        "%%time\n",
        "logreg = LogisticRegression()\n",
        "logreg.fit(X_train, y_train)"
      ]
    },
    {
      "cell_type": "code",
      "execution_count": 19,
      "metadata": {
        "id": "FMKS-JArSYeJ"
      },
      "outputs": [],
      "source": [
        "y_pred_logreg = logreg.predict(X_test)"
      ]
    },
    {
      "cell_type": "code",
      "execution_count": 20,
      "metadata": {
        "scrolled": false,
        "id": "CZrXe1H4SYeK",
        "outputId": "733b9957-decb-44f7-f7a7-59055a220740",
        "colab": {
          "base_uri": "https://localhost:8080/"
        }
      },
      "outputs": [
        {
          "output_type": "stream",
          "name": "stdout",
          "text": [
            "              precision    recall  f1-score   support\n",
            "\n",
            "           0       0.69      0.74      0.71      8820\n",
            "           1       0.72      0.65      0.68      8680\n",
            "\n",
            "    accuracy                           0.70     17500\n",
            "   macro avg       0.70      0.70      0.70     17500\n",
            "weighted avg       0.70      0.70      0.70     17500\n",
            "\n"
          ]
        }
      ],
      "source": [
        "print(classification_report(y_test, y_pred_logreg))"
      ]
    },
    {
      "cell_type": "code",
      "execution_count": 21,
      "metadata": {
        "id": "_8aN9NGVSYeK",
        "outputId": "f963c1d6-4bfe-4066-e2a7-b701a9dc0316",
        "colab": {
          "base_uri": "https://localhost:8080/"
        }
      },
      "outputs": [
        {
          "output_type": "execute_result",
          "data": {
            "text/plain": [
              "0.6989018725769879"
            ]
          },
          "metadata": {},
          "execution_count": 21
        }
      ],
      "source": [
        "roc_auc_score_logreg = roc_auc_score(y_test, y_pred_logreg)\n",
        "roc_auc_score_logreg"
      ]
    },
    {
      "cell_type": "code",
      "execution_count": 22,
      "metadata": {
        "id": "1RtMIhRfSYeL",
        "outputId": "af7c073f-336f-4821-acaa-452d403324f3",
        "colab": {
          "base_uri": "https://localhost:8080/"
        }
      },
      "outputs": [
        {
          "output_type": "stream",
          "name": "stdout",
          "text": [
            "Best Threshold=1.000000, F-Score=0.683, Precision=0.715, Recall=0.654\n"
          ]
        }
      ],
      "source": [
        "precision_logreg, recall_logreg, thresholds_logreg = precision_recall_curve(y_test, y_pred_logreg)\n",
        "fscore_logreg = (2 * precision_logreg * recall_logreg) / (precision_logreg + recall_logreg)\n",
        "# locate the index of the largest f score\n",
        "ix_logreg = np.argmax(fscore_logreg)\n",
        "print('Best Threshold=%f, F-Score=%.3f, Precision=%.3f, Recall=%.3f' % (thresholds_logreg[ix_logreg], \n",
        "                                                                        fscore_logreg[ix_logreg],\n",
        "                                                                        precision_logreg[ix_logreg],\n",
        "                                                                        recall_logreg[ix_logreg]))"
      ]
    },
    {
      "cell_type": "markdown",
      "metadata": {
        "id": "EIty3IP5SYeL"
      },
      "source": [
        "Градиентный бустинг:"
      ]
    },
    {
      "cell_type": "code",
      "execution_count": 23,
      "metadata": {
        "id": "9dRKCCWpSYeL",
        "outputId": "c68c8532-e1a7-4cf1-ac80-346f15440411",
        "colab": {
          "base_uri": "https://localhost:8080/"
        }
      },
      "outputs": [
        {
          "output_type": "stream",
          "name": "stdout",
          "text": [
            "CPU times: user 8.98 s, sys: 535 µs, total: 8.98 s\n",
            "Wall time: 9.34 s\n"
          ]
        },
        {
          "output_type": "execute_result",
          "data": {
            "text/plain": [
              "GradientBoostingRegressor()"
            ]
          },
          "metadata": {},
          "execution_count": 23
        }
      ],
      "source": [
        "%%time\n",
        "gb_model = GradientBoostingRegressor()\n",
        "gb_model.fit(X_train, y_train)"
      ]
    },
    {
      "cell_type": "code",
      "execution_count": 24,
      "metadata": {
        "id": "05tNNBpjSYeM"
      },
      "outputs": [],
      "source": [
        "y_pred_gb = gb_model.predict(X_test)"
      ]
    },
    {
      "cell_type": "code",
      "execution_count": 25,
      "metadata": {
        "id": "9vP3fY48SYeM",
        "outputId": "3ae148e9-c93f-4741-c8fc-8d51e1c616da",
        "colab": {
          "base_uri": "https://localhost:8080/"
        }
      },
      "outputs": [
        {
          "output_type": "execute_result",
          "data": {
            "text/plain": [
              "0.8021776414098667"
            ]
          },
          "metadata": {},
          "execution_count": 25
        }
      ],
      "source": [
        "roc_auc_score_gb = roc_auc_score(y_test, y_pred_gb)\n",
        "roc_auc_score_gb"
      ]
    },
    {
      "cell_type": "code",
      "execution_count": 26,
      "metadata": {
        "id": "bs_OrUn7SYeN",
        "outputId": "1bd677f6-6053-4fc3-b509-3e529601064f",
        "colab": {
          "base_uri": "https://localhost:8080/"
        }
      },
      "outputs": [
        {
          "output_type": "stream",
          "name": "stdout",
          "text": [
            "Best Threshold=0.374782, F-Score=0.740, Precision=0.682, Recall=0.809\n"
          ]
        }
      ],
      "source": [
        "precision_gb, recall_gb, thresholds_gb = precision_recall_curve(y_test, y_pred_gb)\n",
        "fscore_gb = (2 * precision_gb * recall_gb) / (precision_gb + recall_gb)\n",
        "# locate the index of the largest f score\n",
        "ix_gb = np.argmax(fscore_gb)\n",
        "print('Best Threshold=%f, F-Score=%.3f, Precision=%.3f, Recall=%.3f' % (thresholds_gb[ix_gb], \n",
        "                                                                        fscore_gb[ix_gb],\n",
        "                                                                        precision_gb[ix_gb],\n",
        "                                                                        recall_gb[ix_gb]))"
      ]
    },
    {
      "cell_type": "markdown",
      "metadata": {
        "id": "YH_pZISeSYeO"
      },
      "source": [
        "Случайный лес:"
      ]
    },
    {
      "cell_type": "code",
      "execution_count": 27,
      "metadata": {
        "id": "8zs16WqYSYeO",
        "outputId": "23d1afa3-6674-467e-c151-845b1b86211c",
        "colab": {
          "base_uri": "https://localhost:8080/"
        }
      },
      "outputs": [
        {
          "output_type": "stream",
          "name": "stdout",
          "text": [
            "CPU times: user 9.53 s, sys: 298 ms, total: 9.83 s\n",
            "Wall time: 9.84 s\n"
          ]
        },
        {
          "output_type": "execute_result",
          "data": {
            "text/plain": [
              "RandomForestClassifier()"
            ]
          },
          "metadata": {},
          "execution_count": 27
        }
      ],
      "source": [
        "%%time\n",
        "clf = RandomForestClassifier()\n",
        "clf.fit(X_train, y_train)"
      ]
    },
    {
      "cell_type": "code",
      "execution_count": 28,
      "metadata": {
        "id": "dwmVkSk8SYeP"
      },
      "outputs": [],
      "source": [
        "y_pred_clf = clf.predict(X_test)"
      ]
    },
    {
      "cell_type": "code",
      "execution_count": 29,
      "metadata": {
        "scrolled": true,
        "id": "nVNwmveUSYeQ",
        "outputId": "98900a9e-fb0d-43ae-a320-e4b699f9d6b9",
        "colab": {
          "base_uri": "https://localhost:8080/"
        }
      },
      "outputs": [
        {
          "output_type": "stream",
          "name": "stdout",
          "text": [
            "              precision    recall  f1-score   support\n",
            "\n",
            "           0       0.71      0.75      0.73      8820\n",
            "           1       0.73      0.69      0.71      8680\n",
            "\n",
            "    accuracy                           0.72     17500\n",
            "   macro avg       0.72      0.72      0.72     17500\n",
            "weighted avg       0.72      0.72      0.72     17500\n",
            "\n"
          ]
        }
      ],
      "source": [
        "print(classification_report(y_test, y_pred_clf))"
      ]
    },
    {
      "cell_type": "code",
      "execution_count": 30,
      "metadata": {
        "id": "mThyG91ZSYeQ",
        "outputId": "39fe05f3-04b2-4942-ef67-3068d98e77a6",
        "colab": {
          "base_uri": "https://localhost:8080/"
        }
      },
      "outputs": [
        {
          "output_type": "execute_result",
          "data": {
            "text/plain": [
              "0.7231219369468217"
            ]
          },
          "metadata": {},
          "execution_count": 30
        }
      ],
      "source": [
        "roc_auc_score_clf = roc_auc_score(y_test, y_pred_clf)\n",
        "roc_auc_score_clf"
      ]
    },
    {
      "cell_type": "code",
      "execution_count": 31,
      "metadata": {
        "id": "PDqoQOkJSYeR",
        "outputId": "5a1cbabf-4c0f-4abd-90a5-0c4be9e0b092",
        "colab": {
          "base_uri": "https://localhost:8080/"
        }
      },
      "outputs": [
        {
          "output_type": "stream",
          "name": "stdout",
          "text": [
            "Best Threshold=1.000000, F-Score=0.713, Precision=0.735, Recall=0.692\n"
          ]
        }
      ],
      "source": [
        "precision_clf, recall_clf, thresholds_clf = precision_recall_curve(y_test, y_pred_clf)\n",
        "fscore_clf = (2 * precision_clf * recall_clf) / (precision_clf + recall_clf)\n",
        "# locate the index of the largest f score\n",
        "ix_clf = np.argmax(fscore_clf)\n",
        "print('Best Threshold=%f, F-Score=%.3f, Precision=%.3f, Recall=%.3f' % (thresholds_clf[ix_clf], \n",
        "                                                                        fscore_clf[ix_clf],\n",
        "                                                                        precision_clf[ix_clf],\n",
        "                                                                        recall_clf[ix_clf]))"
      ]
    },
    {
      "cell_type": "markdown",
      "metadata": {
        "id": "3B43A_lPSYeS"
      },
      "source": [
        "#### Вывести сравнение полученных моделей по основным метрикам классификации: pr/rec/auc/f_score (можно в виде таблицы, где строки - модели, а столбцы - метрики):"
      ]
    },
    {
      "cell_type": "code",
      "execution_count": 32,
      "metadata": {
        "scrolled": true,
        "id": "nG2-XiQKSYeS",
        "outputId": "064e28b8-3bc3-46a1-8f26-03d59aa39cfa",
        "colab": {
          "base_uri": "https://localhost:8080/",
          "height": 142
        }
      },
      "outputs": [
        {
          "output_type": "execute_result",
          "data": {
            "text/plain": [
              "                          precision    recall       auc   f_score\n",
              "Логистическая регрессия:   0.715041  0.654493  0.698902  0.683429\n",
              "Градиентный бустинг:       0.682017  0.808756  0.802178  0.739999\n",
              "Случайный лес:             0.734859  0.691935  0.723122  0.712751"
            ],
            "text/html": [
              "\n",
              "  <div id=\"df-842993c9-70b6-4636-85d1-dec6d1b44133\">\n",
              "    <div class=\"colab-df-container\">\n",
              "      <div>\n",
              "<style scoped>\n",
              "    .dataframe tbody tr th:only-of-type {\n",
              "        vertical-align: middle;\n",
              "    }\n",
              "\n",
              "    .dataframe tbody tr th {\n",
              "        vertical-align: top;\n",
              "    }\n",
              "\n",
              "    .dataframe thead th {\n",
              "        text-align: right;\n",
              "    }\n",
              "</style>\n",
              "<table border=\"1\" class=\"dataframe\">\n",
              "  <thead>\n",
              "    <tr style=\"text-align: right;\">\n",
              "      <th></th>\n",
              "      <th>precision</th>\n",
              "      <th>recall</th>\n",
              "      <th>auc</th>\n",
              "      <th>f_score</th>\n",
              "    </tr>\n",
              "  </thead>\n",
              "  <tbody>\n",
              "    <tr>\n",
              "      <th>Логистическая регрессия:</th>\n",
              "      <td>0.715041</td>\n",
              "      <td>0.654493</td>\n",
              "      <td>0.698902</td>\n",
              "      <td>0.683429</td>\n",
              "    </tr>\n",
              "    <tr>\n",
              "      <th>Градиентный бустинг:</th>\n",
              "      <td>0.682017</td>\n",
              "      <td>0.808756</td>\n",
              "      <td>0.802178</td>\n",
              "      <td>0.739999</td>\n",
              "    </tr>\n",
              "    <tr>\n",
              "      <th>Случайный лес:</th>\n",
              "      <td>0.734859</td>\n",
              "      <td>0.691935</td>\n",
              "      <td>0.723122</td>\n",
              "      <td>0.712751</td>\n",
              "    </tr>\n",
              "  </tbody>\n",
              "</table>\n",
              "</div>\n",
              "      <button class=\"colab-df-convert\" onclick=\"convertToInteractive('df-842993c9-70b6-4636-85d1-dec6d1b44133')\"\n",
              "              title=\"Convert this dataframe to an interactive table.\"\n",
              "              style=\"display:none;\">\n",
              "        \n",
              "  <svg xmlns=\"http://www.w3.org/2000/svg\" height=\"24px\"viewBox=\"0 0 24 24\"\n",
              "       width=\"24px\">\n",
              "    <path d=\"M0 0h24v24H0V0z\" fill=\"none\"/>\n",
              "    <path d=\"M18.56 5.44l.94 2.06.94-2.06 2.06-.94-2.06-.94-.94-2.06-.94 2.06-2.06.94zm-11 1L8.5 8.5l.94-2.06 2.06-.94-2.06-.94L8.5 2.5l-.94 2.06-2.06.94zm10 10l.94 2.06.94-2.06 2.06-.94-2.06-.94-.94-2.06-.94 2.06-2.06.94z\"/><path d=\"M17.41 7.96l-1.37-1.37c-.4-.4-.92-.59-1.43-.59-.52 0-1.04.2-1.43.59L10.3 9.45l-7.72 7.72c-.78.78-.78 2.05 0 2.83L4 21.41c.39.39.9.59 1.41.59.51 0 1.02-.2 1.41-.59l7.78-7.78 2.81-2.81c.8-.78.8-2.07 0-2.86zM5.41 20L4 18.59l7.72-7.72 1.47 1.35L5.41 20z\"/>\n",
              "  </svg>\n",
              "      </button>\n",
              "      \n",
              "  <style>\n",
              "    .colab-df-container {\n",
              "      display:flex;\n",
              "      flex-wrap:wrap;\n",
              "      gap: 12px;\n",
              "    }\n",
              "\n",
              "    .colab-df-convert {\n",
              "      background-color: #E8F0FE;\n",
              "      border: none;\n",
              "      border-radius: 50%;\n",
              "      cursor: pointer;\n",
              "      display: none;\n",
              "      fill: #1967D2;\n",
              "      height: 32px;\n",
              "      padding: 0 0 0 0;\n",
              "      width: 32px;\n",
              "    }\n",
              "\n",
              "    .colab-df-convert:hover {\n",
              "      background-color: #E2EBFA;\n",
              "      box-shadow: 0px 1px 2px rgba(60, 64, 67, 0.3), 0px 1px 3px 1px rgba(60, 64, 67, 0.15);\n",
              "      fill: #174EA6;\n",
              "    }\n",
              "\n",
              "    [theme=dark] .colab-df-convert {\n",
              "      background-color: #3B4455;\n",
              "      fill: #D2E3FC;\n",
              "    }\n",
              "\n",
              "    [theme=dark] .colab-df-convert:hover {\n",
              "      background-color: #434B5C;\n",
              "      box-shadow: 0px 1px 3px 1px rgba(0, 0, 0, 0.15);\n",
              "      filter: drop-shadow(0px 1px 2px rgba(0, 0, 0, 0.3));\n",
              "      fill: #FFFFFF;\n",
              "    }\n",
              "  </style>\n",
              "\n",
              "      <script>\n",
              "        const buttonEl =\n",
              "          document.querySelector('#df-842993c9-70b6-4636-85d1-dec6d1b44133 button.colab-df-convert');\n",
              "        buttonEl.style.display =\n",
              "          google.colab.kernel.accessAllowed ? 'block' : 'none';\n",
              "\n",
              "        async function convertToInteractive(key) {\n",
              "          const element = document.querySelector('#df-842993c9-70b6-4636-85d1-dec6d1b44133');\n",
              "          const dataTable =\n",
              "            await google.colab.kernel.invokeFunction('convertToInteractive',\n",
              "                                                     [key], {});\n",
              "          if (!dataTable) return;\n",
              "\n",
              "          const docLinkHtml = 'Like what you see? Visit the ' +\n",
              "            '<a target=\"_blank\" href=https://colab.research.google.com/notebooks/data_table.ipynb>data table notebook</a>'\n",
              "            + ' to learn more about interactive tables.';\n",
              "          element.innerHTML = '';\n",
              "          dataTable['output_type'] = 'display_data';\n",
              "          await google.colab.output.renderOutput(dataTable, element);\n",
              "          const docLink = document.createElement('div');\n",
              "          docLink.innerHTML = docLinkHtml;\n",
              "          element.appendChild(docLink);\n",
              "        }\n",
              "      </script>\n",
              "    </div>\n",
              "  </div>\n",
              "  "
            ]
          },
          "metadata": {},
          "execution_count": 32
        }
      ],
      "source": [
        "results = {'precision': [precision_logreg[ix_logreg], precision_gb[ix_gb], precision_clf[ix_clf]], \n",
        "           'recall': [recall_logreg[ix_logreg], recall_gb[ix_gb], recall_clf[ix_clf]], \n",
        "           'auc': [roc_auc_score_logreg, roc_auc_score_gb, roc_auc_score_clf], \n",
        "           'f_score': [fscore_logreg[ix_logreg], fscore_gb[ix_gb], fscore_clf[ix_clf]]} \n",
        " \n",
        "df_results = pd.DataFrame(results, index =['Логистическая регрессия:', 'Градиентный бустинг:', 'Случайный лес:']) \n",
        "df_results"
      ]
    },
    {
      "cell_type": "markdown",
      "metadata": {
        "id": "tjAhlDQwSYeT"
      },
      "source": [
        "#### Сделать выводы о том, какая модель справилась с задачей лучше других: "
      ]
    },
    {
      "cell_type": "markdown",
      "metadata": {
        "id": "gFZKtfQpSYeT"
      },
      "source": [
        "Модель градиентного бустинга справилась с задачей лучше других: три из четырех метрик оказались выше по показателям. \n",
        "\n",
        "В данной задаче наиболее важным показателем является полнота (recall): важно не пропустить ни одного пациента, имеющего заболевание. Максимальна модель у градиентного бустинга."
      ]
    }
  ],
  "metadata": {
    "kernelspec": {
      "display_name": "Python 3 (ipykernel)",
      "language": "python",
      "name": "python3"
    },
    "language_info": {
      "codemirror_mode": {
        "name": "ipython",
        "version": 3
      },
      "file_extension": ".py",
      "mimetype": "text/x-python",
      "name": "python",
      "nbconvert_exporter": "python",
      "pygments_lexer": "ipython3",
      "version": "3.9.13"
    },
    "colab": {
      "provenance": [],
      "include_colab_link": true
    }
  },
  "nbformat": 4,
  "nbformat_minor": 0
}